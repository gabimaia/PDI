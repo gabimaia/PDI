{
 "cells": [
  {
   "cell_type": "code",
   "execution_count": null,
   "metadata": {},
   "outputs": [],
   "source": [
    "R = img[:,:,0].flatten()\n",
    "G = img[:,:,1].flatten()\n",
    "B = img[:,:,2].flatten()"
   ]
  },
  {
   "cell_type": "code",
   "execution_count": null,
   "metadata": {},
   "outputs": [],
   "source": [
    "HistR, bins = np.histogram(R, 256, [0,256])\n",
    "HistG, bins = np.histogram(G, 256, [0,256])\n",
    "HistB, bins = np.histogram(B, 256, [0,256])\n",
    "\n",
    "HistR = HistR/np.sum(HistR)\n",
    "HistG = HistG/np.sum(HistG)\n",
    "HistB = HistB/np.sum(HistB)\n",
    "\n",
    "AcumuladaR = np.tril(np.ones((256,256)))\n",
    "AcumuladaG = np.tril(np.ones((256,256)))\n",
    "AcumuladaB = np.tril(np.ones((256,256)))\n",
    "\n",
    "AcumuladaR = np.matmul(AcumuladaR, HistR)\n",
    "AcumuladaG = np.matmul(AcumuladaG, HistG)\n",
    "AcumuladaB = np.matmul(AcumuladaB, HistB)"
   ]
  },
  {
   "cell_type": "code",
   "execution_count": null,
   "metadata": {},
   "outputs": [],
   "source": [
    "plt.plot(AcumuladaR)\n",
    "plt.plot(AcumuladaG)\n",
    "plt.plot(AcumuladaB)"
   ]
  }
 ],
 "metadata": {
  "kernelspec": {
   "display_name": "Python 3",
   "language": "python",
   "name": "python3"
  },
  "language_info": {
   "codemirror_mode": {
    "name": "ipython",
    "version": 3
   },
   "file_extension": ".py",
   "mimetype": "text/x-python",
   "name": "python",
   "nbconvert_exporter": "python",
   "pygments_lexer": "ipython3",
   "version": "3.6.9"
  }
 },
 "nbformat": 4,
 "nbformat_minor": 2
}
