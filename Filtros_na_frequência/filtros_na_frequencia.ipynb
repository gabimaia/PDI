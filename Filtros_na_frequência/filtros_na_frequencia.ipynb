{
 "cells": [
  {
   "cell_type": "code",
   "execution_count": null,
   "metadata": {},
   "outputs": [],
   "source": [
    "ButH = (1+ (np.sqrt(2)-1)((D0/D)(2*n)))*-1         #funcao BUTTERWORTH passa alta\n",
    "ButL = (1+ (np.sqrt(2)-1)((D/D0)(2*n)))*-1         #funcao  BUTTERWORTH passa baixa\n",
    "# posição dos pixels em forma circular\n",
    "D = np.sqrt((x-np.array(center)[0]) * 2 + (y-np.array(center)[1]) * 2)"
   ]
  }
 ],
 "metadata": {
  "kernelspec": {
   "display_name": "Python 2",
   "language": "python",
   "name": "python2"
  },
  "language_info": {
   "codemirror_mode": {
    "name": "ipython",
    "version": 2
   },
   "file_extension": ".py",
   "mimetype": "text/x-python",
   "name": "python",
   "nbconvert_exporter": "python",
   "pygments_lexer": "ipython2",
   "version": "2.7.15+"
  }
 },
 "nbformat": 4,
 "nbformat_minor": 2
}
